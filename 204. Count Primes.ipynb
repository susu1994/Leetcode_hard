{
 "cells": [
  {
   "cell_type": "markdown",
   "id": "e4830e82",
   "metadata": {},
   "source": [
    "Given an integer n, return the number of prime numbers that are strictly less than n.\n",
    "\n",
    " \n",
    "\n",
    "Example 1:\n",
    "\n",
    "Input: n = 10\n",
    "\n",
    "Output: 4\n",
    "\n",
    "Explanation: There are 4 prime numbers less than 10, they are 2, 3, 5, 7.\n",
    "\n",
    "Example 2:\n",
    "\n",
    "Input: n = 0\n",
    "\n",
    "Output: 0\n",
    "\n",
    "Example 3:\n",
    "\n",
    "Input: n = 1\n",
    "\n",
    "Output: 0"
   ]
  },
  {
   "cell_type": "code",
   "execution_count": 26,
   "id": "9795a442",
   "metadata": {},
   "outputs": [
    {
     "name": "stdout",
     "output_type": "stream",
     "text": [
      "1\n"
     ]
    }
   ],
   "source": [
    "import math\n",
    "class Solution:\n",
    "      def countPrimes(self, n: int) -> int:\n",
    "\n",
    "        dics= set()\n",
    "        \n",
    "        if n==0 or n==1:\n",
    "            return 0\n",
    "        for i in range(2,n//2):\n",
    "            for j in range(i,n//i+1):\n",
    "                dics.add(i*j)\n",
    "                    \n",
    "     \n",
    "        return n-len(dics)-1\n",
    "    \n",
    "test = Solution()\n",
    "\n",
    "print(test.countPrimes(2))\n",
    "        "
   ]
  },
  {
   "cell_type": "code",
   "execution_count": null,
   "id": "7f9ce3bc",
   "metadata": {},
   "outputs": [],
   "source": []
  }
 ],
 "metadata": {
  "kernelspec": {
   "display_name": "Python 3 (ipykernel)",
   "language": "python",
   "name": "python3"
  },
  "language_info": {
   "codemirror_mode": {
    "name": "ipython",
    "version": 3
   },
   "file_extension": ".py",
   "mimetype": "text/x-python",
   "name": "python",
   "nbconvert_exporter": "python",
   "pygments_lexer": "ipython3",
   "version": "3.10.9"
  }
 },
 "nbformat": 4,
 "nbformat_minor": 5
}
